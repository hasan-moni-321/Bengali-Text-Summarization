{
 "cells": [
  {
   "cell_type": "code",
   "execution_count": 83,
   "metadata": {},
   "outputs": [],
   "source": [
    "import numpy as np\n",
    "import pandas as pd\n",
    "import matplotlib.pyplot as plt\n",
    "\n",
    "import re\n"
   ]
  },
  {
   "cell_type": "code",
   "execution_count": 84,
   "metadata": {},
   "outputs": [
    {
     "data": {
      "text/html": [
       "<div>\n",
       "<style scoped>\n",
       "    .dataframe tbody tr th:only-of-type {\n",
       "        vertical-align: middle;\n",
       "    }\n",
       "\n",
       "    .dataframe tbody tr th {\n",
       "        vertical-align: top;\n",
       "    }\n",
       "\n",
       "    .dataframe thead th {\n",
       "        text-align: right;\n",
       "    }\n",
       "</style>\n",
       "<table border=\"1\" class=\"dataframe\">\n",
       "  <thead>\n",
       "    <tr style=\"text-align: right;\">\n",
       "      <th></th>\n",
       "      <th>Title</th>\n",
       "      <th>Text</th>\n",
       "      <th>Summary1</th>\n",
       "      <th>Summary2</th>\n",
       "      <th>Summary3</th>\n",
       "    </tr>\n",
       "  </thead>\n",
       "  <tbody>\n",
       "    <tr>\n",
       "      <th>0</th>\n",
       "      <td>লতিফ সিদ্দিকী ছয় মাসের জামিন</td>\n",
       "      <td>ধর্মীয় অনুভূতিতে আঘাতের অভিযোগে করা আরও ১০ ম...</td>\n",
       "      <td>ধর্মীয় অনুভূতিতে আঘাতের অভিযোগে করা আরও ১০ মাম...</td>\n",
       "      <td>ধর্মীয় অনুভূতিতে আঘাতের অভিযোগে করা আরও ১০ মাম...</td>\n",
       "      <td>ধর্মীয় অনুভূতিতে আঘাতের অভিযোগে করা আরও ১০ মাম...</td>\n",
       "    </tr>\n",
       "    <tr>\n",
       "      <th>1</th>\n",
       "      <td>বুয়েট বন্ধ, হল ত্যাগের নির্দেশ</td>\n",
       "      <td>বাংলাদেশ প্রকৌশল বিশ্ববিদ্যালয় (বুয়েট) আজ বৃ...</td>\n",
       "      <td>বুয়েটের রেজিস্ট্রার অধ্যাপক এ কে এম মাসুদ স্বা...</td>\n",
       "      <td>বাংলাদেশ প্রকৌশল বিশ্ববিদ্যালয় (বুয়েট) আজ বৃহস...</td>\n",
       "      <td>বাংলাদেশ প্রকৌশল বিশ্ববিদ্যালয় (বুয়েট) আজ বৃহস...</td>\n",
       "    </tr>\n",
       "    <tr>\n",
       "      <th>2</th>\n",
       "      <td>সমুদ্র বন্দরে ৩ নম্বর সতর্কতা, ঝড়ের আশঙ্কা</td>\n",
       "      <td>সমুদ্রবন্দরগুলোকে ৩ নম্বর সতর্কতা ও নদীবন্দর...</td>\n",
       "      <td>ভারতের ঊড়িষ্যা ও তৎসংলগ্ন এলাকায় রোববার (২১ জু...</td>\n",
       "      <td>সমুদ্রবন্দরগুলোকে ৩ নম্বর সতর্কতা ও নদীবন্দরগু...</td>\n",
       "      <td>ভারতের ঊড়িষ্যা ও তৎসংলগ্ন এলাকায় রোববার (২১ জু...</td>\n",
       "    </tr>\n",
       "  </tbody>\n",
       "</table>\n",
       "</div>"
      ],
      "text/plain": [
       "                                         Title  \\\n",
       "0                লতিফ সিদ্দিকী ছয় মাসের জামিন    \n",
       "1              বুয়েট বন্ধ, হল ত্যাগের নির্দেশ    \n",
       "2  সমুদ্র বন্দরে ৩ নম্বর সতর্কতা, ঝড়ের আশঙ্কা    \n",
       "\n",
       "                                                Text  \\\n",
       "0    ধর্মীয় অনুভূতিতে আঘাতের অভিযোগে করা আরও ১০ ম...   \n",
       "1    বাংলাদেশ প্রকৌশল বিশ্ববিদ্যালয় (বুয়েট) আজ বৃ...   \n",
       "2    সমুদ্রবন্দরগুলোকে ৩ নম্বর সতর্কতা ও নদীবন্দর...   \n",
       "\n",
       "                                            Summary1  \\\n",
       "0  ধর্মীয় অনুভূতিতে আঘাতের অভিযোগে করা আরও ১০ মাম...   \n",
       "1  বুয়েটের রেজিস্ট্রার অধ্যাপক এ কে এম মাসুদ স্বা...   \n",
       "2  ভারতের ঊড়িষ্যা ও তৎসংলগ্ন এলাকায় রোববার (২১ জু...   \n",
       "\n",
       "                                            Summary2  \\\n",
       "0  ধর্মীয় অনুভূতিতে আঘাতের অভিযোগে করা আরও ১০ মাম...   \n",
       "1  বাংলাদেশ প্রকৌশল বিশ্ববিদ্যালয় (বুয়েট) আজ বৃহস...   \n",
       "2  সমুদ্রবন্দরগুলোকে ৩ নম্বর সতর্কতা ও নদীবন্দরগু...   \n",
       "\n",
       "                                            Summary3  \n",
       "0  ধর্মীয় অনুভূতিতে আঘাতের অভিযোগে করা আরও ১০ মাম...  \n",
       "1  বাংলাদেশ প্রকৌশল বিশ্ববিদ্যালয় (বুয়েট) আজ বৃহস...  \n",
       "2  ভারতের ঊড়িষ্যা ও তৎসংলগ্ন এলাকায় রোববার (২১ জু...  "
      ]
     },
     "execution_count": 84,
     "metadata": {},
     "output_type": "execute_result"
    }
   ],
   "source": [
    "df = pd.read_csv(\"/home/hasan/Desktop/Code to keep on Github/Bengali Text Summarization/Bengali_text_summarization.csv\", encoding=\"utf-8\")\n",
    "df.head(3)"
   ]
  },
  {
   "cell_type": "code",
   "execution_count": null,
   "metadata": {},
   "outputs": [],
   "source": []
  },
  {
   "cell_type": "markdown",
   "metadata": {},
   "source": [
    "### Data Cleaning "
   ]
  },
  {
   "cell_type": "code",
   "execution_count": 85,
   "metadata": {},
   "outputs": [],
   "source": [
    "d = {'title': [], 'text': [], 'summary1': [], 'summary2': [], 'summary3': []}"
   ]
  },
  {
   "cell_type": "code",
   "execution_count": 86,
   "metadata": {},
   "outputs": [],
   "source": [
    "for r in range(0, len(df)):\n",
    "    title = str(df['Title'][r])\n",
    "    title = title.replace('\\n', \" \")\n",
    "    title = title.replace('\\t', \" \")\n",
    "    title = title.replace('\\\\', \"\")\n",
    "    title = re.sub('[!\"#$%&\\'()*+,-./:;<=>?@[\\\\]^_`{|}~]', '', title)\n",
    "    title = re.sub(' +', ' ', title)\n",
    "    title = title.replace(\"।\", \"\")\n",
    "    title = re.sub('[১২৩৪৫৬৭৮৯০]', '', title)\n",
    "    title = re.sub('[1234567890]', '', title)\n",
    "    title = title.replace('’', '')\n",
    "    title = title.replace('‘', '')\n",
    "    d['title'].append(title)\n",
    "    \n",
    "    text = str(df['Text'][r])\n",
    "    text = text.replace('\\n', \" \")\n",
    "    text = text.replace('\\t', \" \")\n",
    "    text = text.replace('\\\\', \"\")\n",
    "    text = re.sub('[!\"#$%&\\'()*+,-./:;<=>?@[\\\\]^_`{|}~]', '', text)\n",
    "    text = re.sub(' +', ' ', text)\n",
    "    text = text.replace(\"।\", \"\")\n",
    "    text = re.sub('[১২৩৪৫৬৭৮৯০]', '', text)\n",
    "    text = re.sub('[1234567890]', '', text)\n",
    "    text = text.replace('’', '')\n",
    "    text = text.replace('‘', '')\n",
    "    d['text'].append(text)\n",
    "    \n",
    "    summary1 = str(df['Summary1'][r])\n",
    "    summary1 = summary1.replace('\\n', \" \")\n",
    "    summary1 = summary1.replace('\\t', \" \")\n",
    "    summary1 = summary1.replace('\\\\', \"\")\n",
    "    summary1 = re.sub('[!\"#$%&\\'()*+,-./:;<=>?@[\\\\]^_`{|}~]', '', summary1)\n",
    "    summary1 = re.sub(' +', ' ', summary1)\n",
    "    summary1 = summary1.replace(\"।\", \"\")\n",
    "    summary1 = re.sub('[১২৩৪৫৬৭৮৯০]', '', summary1)\n",
    "    summary1 = re.sub('[1234567890]', '', summary1)\n",
    "    summary1 = summary1.replace('’', '')\n",
    "    summary1 = summary1.replace('‘', '')\n",
    "    d['summary1'].append(summary1)\n",
    "    \n",
    "    summary2 = str(df['Summary2'][r])\n",
    "    summary2 = summary2.replace('\\n', \" \")\n",
    "    summary2 = summary2.replace('\\t', \" \")\n",
    "    summary2 = summary2.replace('\\\\', \"\")\n",
    "    summary2 = re.sub('[!\"#$%&\\'()*+,-./:;<=>?@[\\\\]^_`{|}~]', '', summary2)\n",
    "    summary2 = re.sub(' +', ' ', summary2)\n",
    "    summary2 = summary2.replace(\"।\", \"\")\n",
    "    summary2 = re.sub('[১২৩৪৫৬৭৮৯০]', '', summary2)\n",
    "    summary2 = re.sub('[1234567890]', '', summary2)\n",
    "    summary2 = summary2.replace('’', '')\n",
    "    summary2 = summary2.replace('‘', '')\n",
    "    d['summary2'].append(summary2)\n",
    "    \n",
    "    summary3 = str(df['Summary3'][r])\n",
    "    summary3 = summary3.replace('\\n', \" \")\n",
    "    summary3 = summary3.replace('\\t', \" \")\n",
    "    summary3 = summary3.replace('\\\\', \"\")\n",
    "    summary3 = re.sub('[!\"#$%&\\'()*+,-./:;<=>?@[\\\\]^_`{|}~]', '', summary3)\n",
    "    summary3 = re.sub(' +', ' ', summary3)\n",
    "    summary3 = summary3.replace(\"।\", \"\")\n",
    "    summary3 = re.sub('[১২৩৪৫৬৭৮৯০]', '', summary3) \n",
    "    summary3 = re.sub('[1234567890]', '', summary3)\n",
    "    summary3 = summary3.replace('’', '')\n",
    "    summary3 = summary3.replace('‘', '')\n",
    "    d['summary3'].append(summary3)\n",
    "    #print(title)\n",
    "    "
   ]
  },
  {
   "cell_type": "code",
   "execution_count": 87,
   "metadata": {},
   "outputs": [
    {
     "data": {
      "text/html": [
       "<div>\n",
       "<style scoped>\n",
       "    .dataframe tbody tr th:only-of-type {\n",
       "        vertical-align: middle;\n",
       "    }\n",
       "\n",
       "    .dataframe tbody tr th {\n",
       "        vertical-align: top;\n",
       "    }\n",
       "\n",
       "    .dataframe thead th {\n",
       "        text-align: right;\n",
       "    }\n",
       "</style>\n",
       "<table border=\"1\" class=\"dataframe\">\n",
       "  <thead>\n",
       "    <tr style=\"text-align: right;\">\n",
       "      <th></th>\n",
       "      <th>title</th>\n",
       "      <th>text</th>\n",
       "      <th>summary1</th>\n",
       "      <th>summary2</th>\n",
       "      <th>summary3</th>\n",
       "    </tr>\n",
       "  </thead>\n",
       "  <tbody>\n",
       "    <tr>\n",
       "      <th>0</th>\n",
       "      <td>লতিফ সিদ্দিকী ছয় মাসের জামিন</td>\n",
       "      <td>ধর্মীয় অনুভূতিতে আঘাতের অভিযোগে করা আরও  মামল...</td>\n",
       "      <td>ধর্মীয় অনুভূতিতে আঘাতের অভিযোগে করা আরও  মামলা...</td>\n",
       "      <td>ধর্মীয় অনুভূতিতে আঘাতের অভিযোগে করা আরও  মামলা...</td>\n",
       "      <td>ধর্মীয় অনুভূতিতে আঘাতের অভিযোগে করা আরও  মামলা...</td>\n",
       "    </tr>\n",
       "    <tr>\n",
       "      <th>1</th>\n",
       "      <td>বুয়েট বন্ধ হল ত্যাগের নির্দেশ</td>\n",
       "      <td>বাংলাদেশ প্রকৌশল বিশ্ববিদ্যালয় বুয়েট আজ বৃহস্...</td>\n",
       "      <td>বুয়েটের রেজিস্ট্রার অধ্যাপক এ কে এম মাসুদ স্বা...</td>\n",
       "      <td>বাংলাদেশ প্রকৌশল বিশ্ববিদ্যালয় বুয়েট আজ বৃহস্প...</td>\n",
       "      <td>বাংলাদেশ প্রকৌশল বিশ্ববিদ্যালয় বুয়েট আজ বৃহস্প...</td>\n",
       "    </tr>\n",
       "    <tr>\n",
       "      <th>2</th>\n",
       "      <td>সমুদ্র বন্দরে  নম্বর সতর্কতা ঝড়ের আশঙ্কা</td>\n",
       "      <td>সমুদ্রবন্দরগুলোকে  নম্বর সতর্কতা ও নদীবন্দরগু...</td>\n",
       "      <td>ভারতের ঊড়িষ্যা ও তৎসংলগ্ন এলাকায় রোববার  জুন অ...</td>\n",
       "      <td>সমুদ্রবন্দরগুলোকে  নম্বর সতর্কতা ও নদীবন্দরগুল...</td>\n",
       "      <td>ভারতের ঊড়িষ্যা ও তৎসংলগ্ন এলাকায় রোববার  জুন অ...</td>\n",
       "    </tr>\n",
       "    <tr>\n",
       "      <th>3</th>\n",
       "      <td>হঠাৎ ভারী বর্ষণে জলাবদ্ধ ঢাকায় জনদুর্ভোগ</td>\n",
       "      <td>ঘণ্টার ভারী বর্ষণে সোমবার রাজধানীর বিভিন্ন এ...</td>\n",
       "      <td>ঘণ্টার ভারী বর্ষণে সোমবার রাজধানীর বিভিন্ন এল...</td>\n",
       "      <td>ঘণ্টার ভারী বর্ষণে সোমবার রাজধানীর বিভিন্ন এল...</td>\n",
       "      <td>ঘণ্টার ভারী বর্ষণে সোমবার রাজধানীর বিভিন্ন এল...</td>\n",
       "    </tr>\n",
       "    <tr>\n",
       "      <th>4</th>\n",
       "      <td>বাজেটই দেশের আর্থসামাজিক উন্নয়নের ভিত্তি</td>\n",
       "      <td>বাজেটেই প্রতিফলিত হয় দেশের আর্থসামাজিক উন্নয়ন...</td>\n",
       "      <td>বাজেটেই প্রতিফলিত হয় দেশের আর্থসামাজিক উন্নয়নে...</td>\n",
       "      <td>দারিদ্র্য দূরীকরণের জন্য জাতীয় বাজেটে যদি পর্য...</td>\n",
       "      <td>দারিদ্র্য দূরীকরণের জন্য জাতীয় বাজেটে যদি পর্য...</td>\n",
       "    </tr>\n",
       "  </tbody>\n",
       "</table>\n",
       "</div>"
      ],
      "text/plain": [
       "                                       title  \\\n",
       "0              লতিফ সিদ্দিকী ছয় মাসের জামিন    \n",
       "1             বুয়েট বন্ধ হল ত্যাগের নির্দেশ    \n",
       "2  সমুদ্র বন্দরে  নম্বর সতর্কতা ঝড়ের আশঙ্কা    \n",
       "3  হঠাৎ ভারী বর্ষণে জলাবদ্ধ ঢাকায় জনদুর্ভোগ    \n",
       "4  বাজেটই দেশের আর্থসামাজিক উন্নয়নের ভিত্তি    \n",
       "\n",
       "                                                text  \\\n",
       "0   ধর্মীয় অনুভূতিতে আঘাতের অভিযোগে করা আরও  মামল...   \n",
       "1   বাংলাদেশ প্রকৌশল বিশ্ববিদ্যালয় বুয়েট আজ বৃহস্...   \n",
       "2   সমুদ্রবন্দরগুলোকে  নম্বর সতর্কতা ও নদীবন্দরগু...   \n",
       "3    ঘণ্টার ভারী বর্ষণে সোমবার রাজধানীর বিভিন্ন এ...   \n",
       "4   বাজেটেই প্রতিফলিত হয় দেশের আর্থসামাজিক উন্নয়ন...   \n",
       "\n",
       "                                            summary1  \\\n",
       "0  ধর্মীয় অনুভূতিতে আঘাতের অভিযোগে করা আরও  মামলা...   \n",
       "1  বুয়েটের রেজিস্ট্রার অধ্যাপক এ কে এম মাসুদ স্বা...   \n",
       "2  ভারতের ঊড়িষ্যা ও তৎসংলগ্ন এলাকায় রোববার  জুন অ...   \n",
       "3   ঘণ্টার ভারী বর্ষণে সোমবার রাজধানীর বিভিন্ন এল...   \n",
       "4  বাজেটেই প্রতিফলিত হয় দেশের আর্থসামাজিক উন্নয়নে...   \n",
       "\n",
       "                                            summary2  \\\n",
       "0  ধর্মীয় অনুভূতিতে আঘাতের অভিযোগে করা আরও  মামলা...   \n",
       "1  বাংলাদেশ প্রকৌশল বিশ্ববিদ্যালয় বুয়েট আজ বৃহস্প...   \n",
       "2  সমুদ্রবন্দরগুলোকে  নম্বর সতর্কতা ও নদীবন্দরগুল...   \n",
       "3   ঘণ্টার ভারী বর্ষণে সোমবার রাজধানীর বিভিন্ন এল...   \n",
       "4  দারিদ্র্য দূরীকরণের জন্য জাতীয় বাজেটে যদি পর্য...   \n",
       "\n",
       "                                            summary3  \n",
       "0  ধর্মীয় অনুভূতিতে আঘাতের অভিযোগে করা আরও  মামলা...  \n",
       "1  বাংলাদেশ প্রকৌশল বিশ্ববিদ্যালয় বুয়েট আজ বৃহস্প...  \n",
       "2  ভারতের ঊড়িষ্যা ও তৎসংলগ্ন এলাকায় রোববার  জুন অ...  \n",
       "3   ঘণ্টার ভারী বর্ষণে সোমবার রাজধানীর বিভিন্ন এল...  \n",
       "4  দারিদ্র্য দূরীকরণের জন্য জাতীয় বাজেটে যদি পর্য...  "
      ]
     },
     "execution_count": 87,
     "metadata": {},
     "output_type": "execute_result"
    }
   ],
   "source": [
    "data_frame_clean = pd.DataFrame(d)\n",
    "data_frame_clean.head()"
   ]
  },
  {
   "cell_type": "code",
   "execution_count": null,
   "metadata": {},
   "outputs": [],
   "source": []
  },
  {
   "cell_type": "markdown",
   "metadata": {},
   "source": [
    "### Removing StopWords"
   ]
  },
  {
   "cell_type": "code",
   "execution_count": null,
   "metadata": {},
   "outputs": [],
   "source": []
  },
  {
   "cell_type": "code",
   "execution_count": 88,
   "metadata": {},
   "outputs": [
    {
     "name": "stdout",
     "output_type": "stream",
     "text": [
      "['অতএব', 'অথচ', 'অথবা', 'অনুযায়ী', 'অনেক', 'অনেকে', 'অনেকেই', 'অন্তত', 'অন্য', 'অবধি', 'অবশ্য', 'অর্থাত', 'আই', 'আগামী', 'আগে', 'আগেই', 'আছে', 'আজ', 'আদ্যভাগে', 'আপনার', 'আপনি', 'আবার', 'আমরা', 'আমাকে', 'আমাদের', 'আমার', 'আমি', 'আর', 'আরও', 'ই', 'ইত্যাদি', 'ইহা', 'উচিত', 'উত্তর', 'উনি', 'উপর', 'উপরে', 'এ', 'এঁদের', 'এঁরা', 'এই', 'একই', 'একটি', 'একবার', 'একে', 'এক্', 'এখন', 'এখনও', 'এখানে', 'এখানেই', 'এটা', 'এটাই', 'এটি', 'এত', 'এতটাই', 'এতে', 'এদের', 'এব', 'এবং', 'এবার', 'এমন', 'এমনকী', 'এমনি', 'এর', 'এরা', 'এল', 'এস', 'এসে', 'ঐ', 'ও', 'ওঁদের', 'ওঁর', 'ওঁরা', 'ওই', 'ওকে', 'ওখানে', 'ওদের', 'ওর', 'ওরা', 'কখনও', 'কত', 'কবে', 'কমনে', 'কয়েক', 'কয়েকটি', 'করছে', 'করছেন', 'করতে', 'করবে', 'করবেন', 'করলে', 'করলেন', 'করা', 'করাই', 'করায়', 'করার', 'করি', 'করিতে', 'করিয়া', 'করিয়ে', 'করে', 'করেই', 'করেছিলেন', 'করেছে', 'করেছেন', 'করেন', 'কাউকে', 'কাছ', 'কাছে', 'কাজ', 'কাজে', 'কারও', 'কারণ', 'কি', 'কিংবা', 'কিছু', 'কিছুই', 'কিন্তু', 'কী', 'কে', 'কেউ', 'কেউই', 'কেখা', 'কেন', 'কোটি', 'কোন', 'কোনও', 'কোনো', 'ক্ষেত্রে', 'কয়েক', 'খুব', 'গিয়ে', 'গিয়েছে', 'গিয়ে', 'গুলি', 'গেছে', 'গেল', 'গেলে', 'গোটা', 'চলে', 'চান', 'চায়', 'চার', 'চালু', 'চেয়ে', 'চেষ্টা', 'ছাড়া', 'ছাড়াও', 'ছিল', 'ছিলেন', 'জন', 'জনকে', 'জনের', 'জন্য', 'জন্যওজে', 'জানতে', 'জানা', 'জানানো', 'জানায়', 'জানিয়ে', 'জানিয়েছে', 'জে', 'জ্নজন', 'টি', 'ঠিক', 'তখন', 'তত', 'তথা', 'তবু', 'তবে', 'তা', 'তাঁকে', 'তাঁদের', 'তাঁর', 'তাঁরা', 'তাঁাহারা', 'তাই', 'তাও', 'তাকে', 'তাতে', 'তাদের', 'তার', 'তারপর', 'তারা', 'তারৈ', 'তাহলে', 'তাহা', 'তাহাতে', 'তাহার', 'তিনঐ', 'তিনি', 'তিনিও', 'তুমি', 'তুলে', 'তেমন', 'তো', 'তোমার', 'থাকবে', 'থাকবেন', 'থাকা', 'থাকায়', 'থাকে', 'থাকেন', 'থেকে', 'থেকেই', 'থেকেও', 'দিকে', 'দিতে', 'দিন', 'দিয়ে', 'দিয়েছে', 'দিয়েছেন', 'দিলেন', 'দু', 'দুই', 'দুটি', 'দুটো', 'দেওয়া', 'দেওয়ার', 'দেওয়া', 'দেখতে', 'দেখা', 'দেখে', 'দেন', 'দেয়', 'দ্বারা', 'ধরা', 'ধরে', 'ধামার', 'নতুন', 'নয়', 'না', 'নাই', 'নাকি', 'নাগাদ', 'নানা', 'নিজে', 'নিজেই', 'নিজেদের', 'নিজের', 'নিতে', 'নিয়ে', 'নিয়ে', 'নেই', 'নেওয়া', 'নেওয়ার', 'নেওয়া', 'নয়', 'পক্ষে', 'পর', 'পরে', 'পরেই', 'পরেও', 'পর্যন্ত', 'পাওয়া', 'পাচ', 'পারি', 'পারে', 'পারেন', 'পি', 'পেয়ে', 'পেয়্র্', 'প্রতি', 'প্রথম', 'প্রভৃতি', 'প্রযন্ত', 'প্রাথমিক', 'প্রায়', 'প্রায়', 'ফলে', 'ফিরে', 'ফের', 'বক্তব্য', 'বদলে', 'বন', 'বরং', 'বলতে', 'বলল', 'বললেন', 'বলা', 'বলে', 'বলেছেন', 'বলেন', 'বসে', 'বহু', 'বা', 'বাদে', 'বার', 'বি', 'বিনা', 'বিভিন্ন', 'বিশেষ', 'বিষয়টি', 'বেশ', 'বেশি', 'ব্যবহার', 'ব্যাপারে', 'ভাবে', 'ভাবেই', 'মতো', 'মতোই', 'মধ্যভাগে', 'মধ্যে', 'মধ্যেই', 'মধ্যেও', 'মনে', 'মাত্র', 'মাধ্যমে', 'মোট', 'মোটেই', 'যখন', 'যত', 'যতটা', 'যথেষ্ট', 'যদি', 'যদিও', 'যা', 'যাঁর', 'যাঁরা', 'যাওয়া', 'যাওয়ার', 'যাওয়া', 'যাকে', 'যাচ্ছে', 'যাতে', 'যাদের', 'যান', 'যাবে', 'যায়', 'যার', 'যারা', 'যিনি', 'যে', 'যেখানে', 'যেতে', 'যেন', 'যেমন', 'র', 'রকম', 'রয়েছে', 'রাখা', 'রেখে', 'লক্ষ', 'শুধু', 'শুরু', 'সঙ্গে', 'সঙ্গেও', 'সব', 'সবার', 'সমস্ত', 'সম্প্রতি', 'সহ', 'সহিত', 'সাধারণ', 'সামনে', 'সি', 'সুতরাং', 'সে', 'সেই', 'সেখান', 'সেখানে', 'সেটা', 'সেটাই', 'সেটাও', 'সেটি', 'স্পষ্ট', 'স্বয়ং', 'হইতে', 'হইবে', 'হইয়া', 'হওয়া', 'হওয়ায়', 'হওয়ার', 'হচ্ছে', 'হত', 'হতে', 'হতেই', 'হন', 'হবে', 'হবেন', 'হয়', 'হয়তো', 'হয়নি', 'হয়ে', 'হয়েই', 'হয়েছিল', 'হয়েছে', 'হয়েছেন', 'হল', 'হলে', 'হলেই', 'হলেও', 'হলো', 'হাজার', 'হিসাবে', 'হৈলে', 'হোক', 'হয়']\n"
     ]
    }
   ],
   "source": [
    "with open('/home/hasan/Desktop/Code to keep on Github/Bengali Text Summarization/stopwords-bn.txt', 'r', encoding='utf-8-sig') as f:\n",
    "    stop_word = f.read()\n",
    "    #\n",
    "    stop_word = stop_word.replace(\" \", \"\")\n",
    "    stop_word = stop_word.split('\\n')\n",
    "    print(stop_word)\n",
    "    "
   ]
  },
  {
   "cell_type": "code",
   "execution_count": null,
   "metadata": {},
   "outputs": [],
   "source": []
  },
  {
   "cell_type": "code",
   "execution_count": 89,
   "metadata": {},
   "outputs": [],
   "source": [
    "d = {'title': [], 'text': [], 'summary1': [], 'summary2': [], 'summary3': []}"
   ]
  },
  {
   "cell_type": "code",
   "execution_count": 90,
   "metadata": {},
   "outputs": [],
   "source": [
    "for r in range(len(data_frame_clean)):\n",
    "    title = data_frame_clean['title'][r]\n",
    "    title = title.split()\n",
    "    title = [w for w in title if not w in stop_word]\n",
    "    title = \" \".join(title)\n",
    "    d['title'].append(title)\n",
    "    \n",
    "    text = data_frame_clean['text'][r]\n",
    "    text = text.split()\n",
    "    text = [w for w in text if not w in stop_word]\n",
    "    text = \" \".join(text)\n",
    "    d['text'].append(text)\n",
    "    \n",
    "    summary1 = data_frame_clean['summary1'][r]\n",
    "    summary1 = summary1.split()\n",
    "    summary1 = [w for w in summary1 if not w in stop_word]\n",
    "    summary1 = \" \".join(summary1)\n",
    "    d['summary1'].append(summary1)\n",
    "    \n",
    "    summary2 = data_frame_clean['summary2'][r]\n",
    "    summary2 = summary2.split()\n",
    "    summary2 = [w for w in summary2 if not w in stop_word]\n",
    "    summary2 = \" \".join(summary2)\n",
    "    d['summary2'].append(summary2)\n",
    "    \n",
    "    summary3 = data_frame_clean['summary3'][r] \n",
    "    summary3 = summary3.split()\n",
    "    summary3 = [w for w in summary3 if not w in stop_word] \n",
    "    summary3 = \" \".join(summary3)\n",
    "    d['summary3'].append(summary3) \n",
    "    "
   ]
  },
  {
   "cell_type": "code",
   "execution_count": 91,
   "metadata": {},
   "outputs": [
    {
     "data": {
      "text/html": [
       "<div>\n",
       "<style scoped>\n",
       "    .dataframe tbody tr th:only-of-type {\n",
       "        vertical-align: middle;\n",
       "    }\n",
       "\n",
       "    .dataframe tbody tr th {\n",
       "        vertical-align: top;\n",
       "    }\n",
       "\n",
       "    .dataframe thead th {\n",
       "        text-align: right;\n",
       "    }\n",
       "</style>\n",
       "<table border=\"1\" class=\"dataframe\">\n",
       "  <thead>\n",
       "    <tr style=\"text-align: right;\">\n",
       "      <th></th>\n",
       "      <th>title</th>\n",
       "      <th>text</th>\n",
       "      <th>summary1</th>\n",
       "      <th>summary2</th>\n",
       "      <th>summary3</th>\n",
       "    </tr>\n",
       "  </thead>\n",
       "  <tbody>\n",
       "    <tr>\n",
       "      <th>0</th>\n",
       "      <td>লতিফ সিদ্দিকী ছয় মাসের জামিন</td>\n",
       "      <td>ধর্মীয় অনুভূতিতে আঘাতের অভিযোগে মামলায় হাইকোর্...</td>\n",
       "      <td>ধর্মীয় অনুভূতিতে আঘাতের অভিযোগে মামলায় হাইকোর্...</td>\n",
       "      <td>ধর্মীয় অনুভূতিতে আঘাতের অভিযোগে মামলায় হাইকোর্...</td>\n",
       "      <td>ধর্মীয় অনুভূতিতে আঘাতের অভিযোগে মামলায় হাইকোর্...</td>\n",
       "    </tr>\n",
       "    <tr>\n",
       "      <th>1</th>\n",
       "      <td>বুয়েট বন্ধ ত্যাগের নির্দেশ</td>\n",
       "      <td>বাংলাদেশ প্রকৌশল বিশ্ববিদ্যালয় বুয়েট বৃহস্পতিব...</td>\n",
       "      <td>বুয়েটের রেজিস্ট্রার অধ্যাপক এম মাসুদ স্বাক্ষরি...</td>\n",
       "      <td>বাংলাদেশ প্রকৌশল বিশ্ববিদ্যালয় বুয়েট বৃহস্পতিব...</td>\n",
       "      <td>বাংলাদেশ প্রকৌশল বিশ্ববিদ্যালয় বুয়েট বৃহস্পতিব...</td>\n",
       "    </tr>\n",
       "    <tr>\n",
       "      <th>2</th>\n",
       "      <td>সমুদ্র বন্দরে নম্বর সতর্কতা ঝড়ের আশঙ্কা</td>\n",
       "      <td>সমুদ্রবন্দরগুলোকে নম্বর সতর্কতা নদীবন্দরগুলোকে...</td>\n",
       "      <td>ভারতের ঊড়িষ্যা তৎসংলগ্ন এলাকায় রোববার জুন অবস্...</td>\n",
       "      <td>সমুদ্রবন্দরগুলোকে নম্বর সতর্কতা নদীবন্দরগুলোকে...</td>\n",
       "      <td>ভারতের ঊড়িষ্যা তৎসংলগ্ন এলাকায় রোববার জুন অবস্...</td>\n",
       "    </tr>\n",
       "  </tbody>\n",
       "</table>\n",
       "</div>"
      ],
      "text/plain": [
       "                                     title  \\\n",
       "0             লতিফ সিদ্দিকী ছয় মাসের জামিন   \n",
       "1               বুয়েট বন্ধ ত্যাগের নির্দেশ   \n",
       "2  সমুদ্র বন্দরে নম্বর সতর্কতা ঝড়ের আশঙ্কা   \n",
       "\n",
       "                                                text  \\\n",
       "0  ধর্মীয় অনুভূতিতে আঘাতের অভিযোগে মামলায় হাইকোর্...   \n",
       "1  বাংলাদেশ প্রকৌশল বিশ্ববিদ্যালয় বুয়েট বৃহস্পতিব...   \n",
       "2  সমুদ্রবন্দরগুলোকে নম্বর সতর্কতা নদীবন্দরগুলোকে...   \n",
       "\n",
       "                                            summary1  \\\n",
       "0  ধর্মীয় অনুভূতিতে আঘাতের অভিযোগে মামলায় হাইকোর্...   \n",
       "1  বুয়েটের রেজিস্ট্রার অধ্যাপক এম মাসুদ স্বাক্ষরি...   \n",
       "2  ভারতের ঊড়িষ্যা তৎসংলগ্ন এলাকায় রোববার জুন অবস্...   \n",
       "\n",
       "                                            summary2  \\\n",
       "0  ধর্মীয় অনুভূতিতে আঘাতের অভিযোগে মামলায় হাইকোর্...   \n",
       "1  বাংলাদেশ প্রকৌশল বিশ্ববিদ্যালয় বুয়েট বৃহস্পতিব...   \n",
       "2  সমুদ্রবন্দরগুলোকে নম্বর সতর্কতা নদীবন্দরগুলোকে...   \n",
       "\n",
       "                                            summary3  \n",
       "0  ধর্মীয় অনুভূতিতে আঘাতের অভিযোগে মামলায় হাইকোর্...  \n",
       "1  বাংলাদেশ প্রকৌশল বিশ্ববিদ্যালয় বুয়েট বৃহস্পতিব...  \n",
       "2  ভারতের ঊড়িষ্যা তৎসংলগ্ন এলাকায় রোববার জুন অবস্...  "
      ]
     },
     "execution_count": 91,
     "metadata": {},
     "output_type": "execute_result"
    }
   ],
   "source": [
    "data_frame_stop_word = pd.DataFrame(d)\n",
    "data_frame_stop_word.head(3)"
   ]
  },
  {
   "cell_type": "code",
   "execution_count": 92,
   "metadata": {},
   "outputs": [
    {
     "data": {
      "text/plain": [
       "'সমুদ্র বন্দরে নম্বর সতর্কতা ঝড়ের আশঙ্কা'"
      ]
     },
     "execution_count": 92,
     "metadata": {},
     "output_type": "execute_result"
    }
   ],
   "source": [
    "data_frame_stop_word['title'][2]"
   ]
  },
  {
   "cell_type": "code",
   "execution_count": 93,
   "metadata": {},
   "outputs": [
    {
     "data": {
      "text/plain": [
       "'ঘণ্টার ভারী বর্ষণে সোমবার রাজধানীর এলাকায় জলাবদ্ধতা দেয় ভোগান্তিতে পড়েন নগরবাসী ব্যাহত চলাচল গতকাল সকালবেলা অসহনীয় গরম ঘরের ভেতর মাথার ওপরের পাখা মিনিটের জন্যও বন্ধ দেয়ার উপায় দুপুর টার পরিস্থিতির কিছুটা পরিবর্তন বিকাল টার আকাশ ঘন মেঘে কালো হালকা বৃষ্টি বিকাল পৌনে টার হঠাৎ ঝমঝম বৃষ্টি বিরতি ছাডাই ভারী বর্ষণ সোয়া টা রাস্তার কোথাও হাঁটু কোথাও কোমড় জমে যায় পানি বৃষ্টি থামার পরপরই হয়ে যায় যানজট সন্ধ্যার অনেকটা স্থবির হয়ে পড়ে ঢাকা রাস্তায় গাড়ি একটার পেছনে আরেকটা এমনভাবে দাঁড়িয়েছিল নড়বারও উপায় বিকালে গাড়ি বের পড়েছিলেন বেকায়দায় মিটার রাস্তা অতিক্রম সময় লেগেছে ঘণ্টা অফিসফেরত মানুষের বেশির ভাগই রাত টার বাসায় পারেননি সিএনজিচালিত অটোরিকশা প্রাইভেটকারের ইঞ্জিনে পানি ঢুকে অনেকগুলো বন্ধ হয়ে যায় যানজট বৃদ্ধির এটাও অন্যতম পানির গাড়িগুলো স্থানে ঠাঁয় দাঁড়িয়েছিল ঘণ্টার মানুষের ভোগান্তির অন্ত গাড়ি চলাচল পারলেও জনপরিবহনে প্রচ ভিড় সর্বত্রই ডুবন্ত রাস্তা অফিসফেরত নারীদের ভোগান্তি সবচেয়ে পুরুষের হুড়োহুড়ি গাড়িতে ওঠা সম্ভব হয়ে উঠায় রিকশার সাহায্য অনেককে খোয়াতে হয়েছে গুণ ভাড়া নটরডেম কলেজের মতিঝিলের অফিসপাড়ায় রিকশা টাকা ভাড়া হয়েছে এটাত রাস্তার দৃশ্য বাসায় মুখোমুখি দৃশ্যের রাস্তা নিচু বাড়িরই নিচতলায় পানি ঢুকে নিচতলা পানিতে ডুবে যাওয়ায় গ্যাসের চুলায়ও পানি ঢুকে রান্নাবান্না বন্ধ হয়ে যায় পরিবারের দিনভর বৃষ্টিতে রাজধানীর এলাকায় গতকাল জলাবদ্ধতা দেয় জনদুর্ভোগে পড়েন নগরবাসী এদিকে রাজধানীর অন্যতম ঘনবসতিপূর্ণ এলাকা মিরপুরে অসংখ্য গার্মেন্ট গড়ে ওঠায় এক দশকে এলাকায় পাল্লা দিয়ে বেড়েছে জনসংখ্যা দুর্ভোগ দেখার থাকলেও দেখছেন নিয়েই প্রশ্ন বাসিন্দাদের মিনিট দশেকের বৃষ্টিতে প্রধান সড়ক ছাড়াও বিস্তীর্ণ এলাকায় হাঁটুপানির চিত্রের মেলে নিত্যই বর্ষায় ভোগান্তির শেষ আগেও মিরপুরের পূরবী কালশী সড়কটি এবড়ো থেবড়ো গাড়ি চলা দূরে থাক পথ হেঁটে যাওয়াই দুরূহ সেনাবাহিনীর তত্ত্বাবধানে বছরখানেকের সংস্কারকাজের মাস তিনেক সড়কটি প্রশস্ত পাশাপাশি পাশে নির্মাণ ফুটপাথ পয়োনিষ্কাশন ব্যবস্থা এরই ফুটপাথ পেটে ঢুকে দোকানের গ্রীষ্মে সড়কে প্রাণ এসেছিল বর্ষায় সড়কের কারণে বৃহস্পতিবার পুরো এলাকা হাবুডুবু খাচ্ছে অথৈ পানিতে সরেজমিন যায় আধা ঘণ্টার বৃষ্টিতে সাংবাদিক আবাসিক এলাকা কালশী মিরপুর বিহারি ক্যাম্প এলাকা পূরবীকালশী সড়ক ডুবে কোমরসমান পানিতে পানি ভেঙেই হেঁটে আসছেন অফিস ফেরত মানুষ পাশেই স্ট্যান্ডার্ড গ্রুপের তলা খ্যাত গার্মেন্ট আনুমানিক শ্রমিক কারখানায় এদিকে দক্ষিণপশ্চিম মৌসুমি বায়ু সক্রিয় থাকায় দেশের এলাকায় গত চলা ভারী বর্ষণ কাল চলতে আভাস দিয়েছে আবহাওয়া অধিদফতর'"
      ]
     },
     "execution_count": 93,
     "metadata": {},
     "output_type": "execute_result"
    }
   ],
   "source": [
    "data_frame_stop_word['text'][3]"
   ]
  },
  {
   "cell_type": "code",
   "execution_count": 94,
   "metadata": {},
   "outputs": [
    {
     "data": {
      "text/plain": [
       "'দেশের প্রধান শেয়ারবাজার ঢাকা স্টক এক্সচেঞ্জে ডিএসই লেনদেন আবারও কোটির ঘরে নেমে এসেছে শেয়ারবাজার চট্টগ্রাম স্টক এক্সচেঞ্জের সিএসই লেনদেন কোটি কমে গতকাল শেষে নেমে এসেছে কোটিতে গত দিনের বাজার পরিস্থিতি পর্যালোচনা শেয়ারবাজারে তালিকাভুক্ত কম মূলধনী কোম্পানির শেয়ারের দাম বেড়েছে তালিকাভুক্ত ইনফরমেশন টেকনোলজি কনসালট্যান্টসের আইটিসি টাকার প্রতিটি শেয়ারের বাজারমূল্য ছয় কার্যদিবসে টাকা ছাড়িয়েছে'"
      ]
     },
     "execution_count": 94,
     "metadata": {},
     "output_type": "execute_result"
    }
   ],
   "source": [
    "data_frame_stop_word['summary1'][6]"
   ]
  },
  {
   "cell_type": "code",
   "execution_count": 95,
   "metadata": {},
   "outputs": [
    {
     "data": {
      "text/plain": [
       "'ঘণ্টার ভারী বর্ষণে সোমবার রাজধানীর এলাকায় জলাবদ্ধতা দেয় ব্যাহত চলাচল গতকাল সকালবেলা অসহনীয় গরম রাস্তার কোথাও হাঁটু কোথাও কোমড় জমে যায় পানি মিটার রাস্তা অতিক্রম সময় লেগেছে ঘণ্টা সিএনজিচালিত অটোরিকশা প্রাইভেটকারের ইঞ্জিনে পানি ঢুকে অনেকগুলো বন্ধ হয়ে যায় পুরুষের হুড়োহুড়ি গাড়িতে ওঠা সম্ভব হয়ে উঠায় রিকশার সাহায্য অনেককে খোয়াতে হয়েছে গুণ ভাড়া রাস্তা নিচু বাড়িরই নিচতলায় পানি ঢুকে নিচতলা পানিতে ডুবে যাওয়ায় গ্যাসের চুলায়ও পানি ঢুকে রান্নাবান্না বন্ধ হয়ে যায় পরিবারের এদিকে রাজধানীর অন্যতম ঘনবসতিপূর্ণ এলাকা মিরপুরে অসংখ্য গার্মেন্ট গড়ে ওঠায় এক দশকে এলাকায় পাল্লা দিয়ে বেড়েছে জনসংখ্যা দুর্ভোগ মিনিট দশেকের বৃষ্টিতে প্রধান সড়ক ছাড়াও বিস্তীর্ণ এলাকায় হাঁটুপানির চিত্রের মেলে নিত্যই গ্রীষ্মে সড়কে প্রাণ এসেছিল বর্ষায় সড়কের কারণে বৃহস্পতিবার পুরো এলাকা হাবুডুবু খাচ্ছে অথৈ পানিতে সরেজমিন যায় আধা ঘণ্টার বৃষ্টিতে সাংবাদিক আবাসিক এলাকা কালশী মিরপুর বিহারি ক্যাম্প এলাকা পূরবীকালশী সড়ক ডুবে কোমরসমান পানিতে এদিকে দক্ষিণপশ্চিম মৌসুমি বায়ু সক্রিয় থাকায় দেশের এলাকায় গত চলা ভারী বর্ষণ কাল চলতে আভাস দিয়েছে আবহাওয়া অধিদফতর'"
      ]
     },
     "execution_count": 95,
     "metadata": {},
     "output_type": "execute_result"
    }
   ],
   "source": [
    "data_frame_stop_word['summary2'][3]"
   ]
  },
  {
   "cell_type": "code",
   "execution_count": 96,
   "metadata": {},
   "outputs": [
    {
     "data": {
      "text/plain": [
       "'চট্টগ্রাম আদালতের পরিদর্শক এইচ মশিউর রহমান বিডিনিউজ টোয়েন্টিফোর ডটকমকে বিকালে আত্মসমর্পণের কাউন্সিলর মোজাম্মেল হককে কারাগারে পাঠানোর নির্দেশ আদালত গত ডিসেম্বর পৌর ভোটের সকালে ভোটকেন্দ্র সাতকানিয়া সরকারি কলেজের হোস্টেলের পূর্ব পাশে কাউন্সিলর প্রার্থী মোজাম্মেল হক মনিরুল ইসলামের সমর্থকদের বিনিময় গুলিবিদ্ধ হয়ে ঘটনাস্থলেই মারা মোহাম্মদ নুরুল আমিন স্ত্রী নুরুন্নাহার বেগম বাদী হয়ে ডিসেম্বর নয়জনকে আসামি মামলা'"
      ]
     },
     "execution_count": 96,
     "metadata": {},
     "output_type": "execute_result"
    }
   ],
   "source": [
    "data_frame_stop_word['summary3'][7]"
   ]
  },
  {
   "cell_type": "code",
   "execution_count": null,
   "metadata": {},
   "outputs": [],
   "source": []
  },
  {
   "cell_type": "markdown",
   "metadata": {},
   "source": [
    "### Distribution of word"
   ]
  },
  {
   "cell_type": "code",
   "execution_count": 97,
   "metadata": {},
   "outputs": [],
   "source": [
    "word_title = []\n",
    "word_text = []\n",
    "word_summary1 = []\n",
    "word_summary2 = []\n",
    "word_summary3 = []\n",
    "\n",
    "for i in range(len(data_frame_stop_word)):\n",
    "    word_title.append(len(data_frame_stop_word['title'][i].split()))\n",
    "    word_text.append(len(data_frame_stop_word['text'][i].split()))\n",
    "    word_summary1.append(len(data_frame_stop_word['summary1'][i].split()))\n",
    "    word_summary2.append(len(data_frame_stop_word['summary2'][i].split()))\n",
    "    word_summary3.append(len(data_frame_stop_word['summary3'][i].split()))\n",
    "    "
   ]
  },
  {
   "cell_type": "code",
   "execution_count": 98,
   "metadata": {},
   "outputs": [
    {
     "data": {
      "text/html": [
       "<div>\n",
       "<style scoped>\n",
       "    .dataframe tbody tr th:only-of-type {\n",
       "        vertical-align: middle;\n",
       "    }\n",
       "\n",
       "    .dataframe tbody tr th {\n",
       "        vertical-align: top;\n",
       "    }\n",
       "\n",
       "    .dataframe thead th {\n",
       "        text-align: right;\n",
       "    }\n",
       "</style>\n",
       "<table border=\"1\" class=\"dataframe\">\n",
       "  <thead>\n",
       "    <tr style=\"text-align: right;\">\n",
       "      <th></th>\n",
       "      <th>title</th>\n",
       "      <th>text</th>\n",
       "      <th>summary1</th>\n",
       "      <th>summary2</th>\n",
       "      <th>summary3</th>\n",
       "    </tr>\n",
       "  </thead>\n",
       "  <tbody>\n",
       "    <tr>\n",
       "      <th>0</th>\n",
       "      <td>5</td>\n",
       "      <td>230</td>\n",
       "      <td>85</td>\n",
       "      <td>103</td>\n",
       "      <td>101</td>\n",
       "    </tr>\n",
       "    <tr>\n",
       "      <th>1</th>\n",
       "      <td>4</td>\n",
       "      <td>139</td>\n",
       "      <td>88</td>\n",
       "      <td>72</td>\n",
       "      <td>72</td>\n",
       "    </tr>\n",
       "    <tr>\n",
       "      <th>2</th>\n",
       "      <td>6</td>\n",
       "      <td>121</td>\n",
       "      <td>28</td>\n",
       "      <td>36</td>\n",
       "      <td>28</td>\n",
       "    </tr>\n",
       "    <tr>\n",
       "      <th>3</th>\n",
       "      <td>6</td>\n",
       "      <td>332</td>\n",
       "      <td>120</td>\n",
       "      <td>151</td>\n",
       "      <td>173</td>\n",
       "    </tr>\n",
       "    <tr>\n",
       "      <th>4</th>\n",
       "      <td>5</td>\n",
       "      <td>142</td>\n",
       "      <td>62</td>\n",
       "      <td>71</td>\n",
       "      <td>71</td>\n",
       "    </tr>\n",
       "    <tr>\n",
       "      <th>...</th>\n",
       "      <td>...</td>\n",
       "      <td>...</td>\n",
       "      <td>...</td>\n",
       "      <td>...</td>\n",
       "      <td>...</td>\n",
       "    </tr>\n",
       "    <tr>\n",
       "      <th>95</th>\n",
       "      <td>4</td>\n",
       "      <td>117</td>\n",
       "      <td>48</td>\n",
       "      <td>50</td>\n",
       "      <td>55</td>\n",
       "    </tr>\n",
       "    <tr>\n",
       "      <th>96</th>\n",
       "      <td>5</td>\n",
       "      <td>136</td>\n",
       "      <td>49</td>\n",
       "      <td>51</td>\n",
       "      <td>59</td>\n",
       "    </tr>\n",
       "    <tr>\n",
       "      <th>97</th>\n",
       "      <td>2</td>\n",
       "      <td>75</td>\n",
       "      <td>23</td>\n",
       "      <td>38</td>\n",
       "      <td>24</td>\n",
       "    </tr>\n",
       "    <tr>\n",
       "      <th>98</th>\n",
       "      <td>5</td>\n",
       "      <td>86</td>\n",
       "      <td>30</td>\n",
       "      <td>35</td>\n",
       "      <td>24</td>\n",
       "    </tr>\n",
       "    <tr>\n",
       "      <th>99</th>\n",
       "      <td>7</td>\n",
       "      <td>122</td>\n",
       "      <td>55</td>\n",
       "      <td>42</td>\n",
       "      <td>47</td>\n",
       "    </tr>\n",
       "  </tbody>\n",
       "</table>\n",
       "<p>100 rows × 5 columns</p>\n",
       "</div>"
      ],
      "text/plain": [
       "    title  text  summary1  summary2  summary3\n",
       "0       5   230        85       103       101\n",
       "1       4   139        88        72        72\n",
       "2       6   121        28        36        28\n",
       "3       6   332       120       151       173\n",
       "4       5   142        62        71        71\n",
       "..    ...   ...       ...       ...       ...\n",
       "95      4   117        48        50        55\n",
       "96      5   136        49        51        59\n",
       "97      2    75        23        38        24\n",
       "98      5    86        30        35        24\n",
       "99      7   122        55        42        47\n",
       "\n",
       "[100 rows x 5 columns]"
      ]
     },
     "execution_count": 98,
     "metadata": {},
     "output_type": "execute_result"
    }
   ],
   "source": [
    "len_df = pd.DataFrame({'title': word_title, 'text': word_text, 'summary1': word_summary1, 'summary2': word_summary2, 'summary3': word_summary3})\n",
    "len_df"
   ]
  },
  {
   "cell_type": "code",
   "execution_count": null,
   "metadata": {},
   "outputs": [],
   "source": []
  },
  {
   "cell_type": "code",
   "execution_count": 99,
   "metadata": {},
   "outputs": [
    {
     "data": {
      "text/plain": [
       "array([[<AxesSubplot:title={'center':'title'}>,\n",
       "        <AxesSubplot:title={'center':'text'}>],\n",
       "       [<AxesSubplot:title={'center':'summary1'}>,\n",
       "        <AxesSubplot:title={'center':'summary2'}>],\n",
       "       [<AxesSubplot:title={'center':'summary3'}>, <AxesSubplot:>]],\n",
       "      dtype=object)"
      ]
     },
     "execution_count": 99,
     "metadata": {},
     "output_type": "execute_result"
    },
    {
     "data": {
      "text/plain": [
       "<Figure size 1296x1152 with 0 Axes>"
      ]
     },
     "metadata": {},
     "output_type": "display_data"
    },
    {
     "data": {
      "image/png": "[encoded data removed]",
      "text/plain": [
       "<Figure size 432x288 with 6 Axes>"
      ]
     },
     "metadata": {
      "needs_background": "light"
     },
     "output_type": "display_data"
    }
   ],
   "source": [
    "plt.figure(figsize=(18,16))\n",
    "len_df.hist(bins=15)"
   ]
  },
  {
   "cell_type": "code",
   "execution_count": null,
   "metadata": {},
   "outputs": [],
   "source": []
  },
  {
   "cell_type": "code",
   "execution_count": 100,
   "metadata": {},
   "outputs": [],
   "source": [
    "data_frame_stop_word.to_csv(\"/home/hasan/Desktop/Code to keep on Github/Bengali Text Summarization/df_clean_stopword.csv\", index=False)\n"
   ]
  },
  {
   "cell_type": "code",
   "execution_count": null,
   "metadata": {},
   "outputs": [],
   "source": []
  }
 ],
 "metadata": {
  "kernelspec": {
   "display_name": "Python 3",
   "language": "python",
   "name": "python3"
  },
  "language_info": {
   "codemirror_mode": {
    "name": "ipython",
    "version": 3
   },
   "file_extension": ".py",
   "mimetype": "text/x-python",
   "name": "python",
   "nbconvert_exporter": "python",
   "pygments_lexer": "ipython3",
   "version": "3.8.2"
  }
 },
 "nbformat": 4,
 "nbformat_minor": 4
}
